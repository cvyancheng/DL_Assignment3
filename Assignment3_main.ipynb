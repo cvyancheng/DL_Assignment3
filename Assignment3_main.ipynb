{
 "cells": [
  {
   "attachments": {},
   "cell_type": "markdown",
   "metadata": {},
   "source": [
    "# Implement LeNet5 (any version) by Tensorflow (Keras is ok) and Pytorch."
   ]
  },
  {
   "cell_type": "code",
   "execution_count": 1,
   "metadata": {},
   "outputs": [
    {
     "name": "stdout",
     "output_type": "stream",
     "text": [
      "    model  epoch  train_loss  train_acc  val_loss  val_acc\n",
      "0  model1      0           0          0         0        1\n"
     ]
    }
   ],
   "source": [
    "import time\n",
    "import pandas as pd\n",
    "import matplotlib.pyplot as plt\n",
    "# 1. Create a dataframe for save the model performance. \n",
    "df_performance = pd.DataFrame(columns=['model', 'accuracy',\n",
    "                                       'training_time', 'inference_time',\n",
    "                                       'num_parameters','flops'])\n",
    "\n",
    "# 2. Create a dataframe for record the model training procedure.\n",
    "df_model_tf_dynamic= pd.DataFrame(columns=['model','epoch', 'train_loss', 'train_acc',\n",
    "                                  'val_loss', 'val_acc'])\n",
    "df_model_tf_static = df_model_tf_dynamic\n",
    "df_model_pt = df_model_tf_dynamic\n",
    "df_model_hc = df_model_tf_dynamic\n",
    "\n",
    "\n",
    "# df_model_pt.loc[str(0)] = ['model1', 0, 0, 0, 0, 0]\n",
    "# df_model_pt.loc[str(0), 'val_acc'] = 1\n",
    "# print(df_model_pt.head(5))\n",
    "# df_model_pt = df_model_pt[0:0]\n",
    "# df_model.head(5)"
   ]
  },
  {
   "attachments": {},
   "cell_type": "markdown",
   "metadata": {},
   "source": [
    "## Tensorflow\n",
    "https://www.tensorflow.org/overview?hl=zh-cn"
   ]
  },
  {
   "cell_type": "code",
   "execution_count": 2,
   "metadata": {},
   "outputs": [
    {
     "name": "stderr",
     "output_type": "stream",
     "text": [
      "2023-05-28 16:06:41.635826: I tensorflow/core/platform/cpu_feature_guard.cc:182] This TensorFlow binary is optimized to use available CPU instructions in performance-critical operations.\n",
      "To enable the following instructions: AVX2 FMA, in other operations, rebuild TensorFlow with the appropriate compiler flags.\n",
      "2023-05-28 16:06:42.187912: W tensorflow/compiler/tf2tensorrt/utils/py_utils.cc:38] TF-TRT Warning: Could not find TensorRT\n"
     ]
    },
    {
     "name": "stdout",
     "output_type": "stream",
     "text": [
      "TensorFlow version: 2.12.0\n"
     ]
    }
   ],
   "source": [
    "import os\n",
    "import numpy as np\n",
    "from PIL import Image\n",
    "import tensorflow as tf\n",
    "print(\"TensorFlow version:\", tf.__version__)\n",
    "\n",
    "from tensorflow.keras.layers import Dense, Flatten, Conv2D, MaxPooling2D\n",
    "from tensorflow.keras import Model"
   ]
  },
  {
   "attachments": {},
   "cell_type": "markdown",
   "metadata": {},
   "source": [
    "### Split dataset\n",
    "Only do once."
   ]
  },
  {
   "cell_type": "code",
   "execution_count": 3,
   "metadata": {},
   "outputs": [],
   "source": [
    "img_dir = './dataset/'\n",
    "file_path = os.path.join(img_dir,'train.txt')\n",
    "with open(file_path, 'r') as f:\n",
    "    lines = f.readlines()\n",
    "train_data = [line.rstrip().split() for line in lines]\n",
    "for idx in range(len(train_data)):\n",
    "    image_path, image_label = train_data[idx]\n",
    "    img = Image.open(img_dir+image_path)\n",
    "    label = int(image_label)\n",
    "    if not os.path.exists(img_dir+\"train/\"+str(label)):\n",
    "        os.makedirs(img_dir+\"train/\"+str(label))\n",
    "    img.save(img_dir+\"train/\"+str(label)+\"/\"+image_path.split('/')[-1])\n"
   ]
  },
  {
   "cell_type": "code",
   "execution_count": 4,
   "metadata": {},
   "outputs": [],
   "source": [
    "file_path = os.path.join(img_dir,'val.txt')\n",
    "with open(file_path, 'r') as f:\n",
    "    lines = f.readlines()\n",
    "val_data = [line.rstrip().split() for line in lines]\n",
    "for idx in range(len(val_data)):\n",
    "    image_path, image_label = val_data[idx]\n",
    "    img = Image.open(img_dir+image_path)\n",
    "    label = int(image_label)\n",
    "    if not os.path.exists(img_dir+\"val/\"+str(label)):\n",
    "        os.makedirs(img_dir+\"val/\"+str(label))\n",
    "    img.save(img_dir+\"val/\"+str(label)+\"/\"+image_path.split('/')[-1])\n"
   ]
  },
  {
   "cell_type": "code",
   "execution_count": 5,
   "metadata": {},
   "outputs": [],
   "source": [
    "file_path = os.path.join(img_dir,'test.txt')\n",
    "with open(file_path, 'r') as f:\n",
    "    lines = f.readlines()\n",
    "test_data = [line.rstrip().split() for line in lines]\n",
    "for idx in range(len(test_data)):\n",
    "    image_path, image_label = test_data[idx]\n",
    "    img = Image.open(img_dir+image_path)\n",
    "    label = int(image_label)\n",
    "    if not os.path.exists(img_dir+\"test/\"+str(label)):\n",
    "        os.makedirs(img_dir+\"test/\"+str(label))\n",
    "    img.save(img_dir+\"test/\"+str(label)+\"/\"+image_path.split('/')[-1])\n"
   ]
  },
  {
   "attachments": {},
   "cell_type": "markdown",
   "metadata": {},
   "source": [
    "### Load dataset"
   ]
  },
  {
   "cell_type": "code",
   "execution_count": 3,
   "metadata": {},
   "outputs": [
    {
     "name": "stdout",
     "output_type": "stream",
     "text": [
      "Found 63325 files belonging to 50 classes.\n",
      "Found 450 files belonging to 50 classes.\n",
      "Found 450 files belonging to 50 classes.\n"
     ]
    },
    {
     "name": "stderr",
     "output_type": "stream",
     "text": [
      "2023-05-28 16:06:46.087377: I tensorflow/compiler/xla/stream_executor/cuda/cuda_gpu_executor.cc:996] successful NUMA node read from SysFS had negative value (-1), but there must be at least one NUMA node, so returning NUMA node zero. See more at https://github.com/torvalds/linux/blob/v6.0/Documentation/ABI/testing/sysfs-bus-pci#L344-L355\n",
      "2023-05-28 16:06:46.106358: W tensorflow/core/common_runtime/gpu/gpu_device.cc:1956] Cannot dlopen some GPU libraries. Please make sure the missing libraries mentioned above are installed properly if you would like to use GPU. Follow the guide at https://www.tensorflow.org/install/gpu for how to download and setup the required libraries for your platform.\n",
      "Skipping registering GPU devices...\n"
     ]
    }
   ],
   "source": [
    "img_dir_train = './dataset/train/'\n",
    "img_dir_val = './dataset/val/'\n",
    "img_dir_test = './dataset/test/'\n",
    "image_size = (64, 64)\n",
    "batch_size = 32\n",
    "train_ds = tf.keras.utils.image_dataset_from_directory(\n",
    "    img_dir_train,\n",
    "    labels='inferred',\n",
    "    label_mode='int',\n",
    "    class_names=None,\n",
    "    color_mode='grayscale',\n",
    "    batch_size=batch_size,\n",
    "    image_size=image_size,\n",
    "    shuffle=True,\n",
    "    seed=None,\n",
    "    validation_split=None,\n",
    "    subset=None,\n",
    "    interpolation='bilinear',\n",
    "    follow_links=False,\n",
    "    crop_to_aspect_ratio=False\n",
    ")\n",
    "val_ds = tf.keras.utils.image_dataset_from_directory(\n",
    "    img_dir_val,\n",
    "    labels='inferred',\n",
    "    label_mode='int',\n",
    "    class_names=None,\n",
    "    color_mode='grayscale',\n",
    "    batch_size=batch_size,\n",
    "    image_size=image_size,\n",
    "    shuffle=True,\n",
    "    seed=None,\n",
    "    validation_split=None,\n",
    "    subset=None,\n",
    "    interpolation='bilinear',\n",
    "    follow_links=False,\n",
    "    crop_to_aspect_ratio=False\n",
    ") \n",
    "test_ds = tf.keras.utils.image_dataset_from_directory(\n",
    "    img_dir_test,\n",
    "    labels='inferred',\n",
    "    label_mode='int',\n",
    "    class_names=None,\n",
    "    color_mode='grayscale',\n",
    "    batch_size=batch_size,\n",
    "    image_size=image_size,\n",
    "    shuffle=True,\n",
    "    seed=None,\n",
    "    validation_split=None,\n",
    "    subset=None,\n",
    "    interpolation='bilinear',\n",
    "    follow_links=False,\n",
    "    crop_to_aspect_ratio=False\n",
    ")"
   ]
  },
  {
   "cell_type": "code",
   "execution_count": 4,
   "metadata": {},
   "outputs": [
    {
     "name": "stdout",
     "output_type": "stream",
     "text": [
      "Model: \"tensorflow__le_net5\"\n",
      "_________________________________________________________________\n",
      " Layer (type)                Output Shape              Param #   \n",
      "=================================================================\n",
      " conv2d (Conv2D)             (None, 60, 60, 6)         156       \n",
      "                                                                 \n",
      " max_pooling2d (MaxPooling2D  (None, 30, 30, 6)        0         \n",
      " )                                                               \n",
      "                                                                 \n",
      " conv2d_1 (Conv2D)           (None, 26, 26, 16)        2416      \n",
      "                                                                 \n",
      " max_pooling2d_1 (MaxPooling  (None, 13, 13, 16)       0         \n",
      " 2D)                                                             \n",
      "                                                                 \n",
      " flatten (Flatten)           (None, 2704)              0         \n",
      "                                                                 \n",
      " dense (Dense)               (None, 500)               1352500   \n",
      "                                                                 \n",
      " dense_1 (Dense)             (None, 50)                25050     \n",
      "                                                                 \n",
      "=================================================================\n",
      "Total params: 1,380,122\n",
      "Trainable params: 1,380,122\n",
      "Non-trainable params: 0\n",
      "_________________________________________________________________\n",
      "None\n"
     ]
    }
   ],
   "source": [
    "class tensorflow_LeNet5(Model):\n",
    "  def __init__(self):\n",
    "    super(tensorflow_LeNet5, self).__init__()\n",
    "    self.conv1 = Conv2D(6, 5, activation='relu')\n",
    "    self.maxpool = MaxPooling2D(pool_size=(2,2),strides=2,padding=\"valid\")\n",
    "    self.conv2 = Conv2D(16, 5, activation='relu')\n",
    "    self.maxpoo2 = MaxPooling2D(pool_size=(2,2),strides=2,padding=\"valid\")\n",
    "\n",
    "    self.flatten = Flatten()\n",
    "    self.d1 = Dense(500, activation='relu')\n",
    "    self.d2 = Dense(50)\n",
    "    \n",
    "  def call(self, x):\n",
    "    x = self.conv1(x)\n",
    "    x = self.maxpool(x)\n",
    "    x = self.conv2(x)\n",
    "    x = self.maxpoo2(x)\n",
    "    x = self.flatten(x)\n",
    "    x = self.d1(x)\n",
    "    return self.d2(x)\n",
    "\n",
    "# Create an instance of the model\n",
    "input_shape = (32, 64, 64, 1)\n",
    "model = tensorflow_LeNet5()\n",
    "model.build(input_shape)\n",
    "model.call(tf.keras.layers.Input(shape=(64, 64, 1)))\n",
    "print(model.summary())"
   ]
  },
  {
   "cell_type": "code",
   "execution_count": 5,
   "metadata": {},
   "outputs": [],
   "source": [
    "loss_object = tf.keras.losses.SparseCategoricalCrossentropy(from_logits=True)\n",
    "\n",
    "optimizer = tf.keras.optimizers.Adam()\n",
    "\n",
    "train_loss = tf.keras.metrics.Mean(name='train_loss')\n",
    "train_accuracy = tf.keras.metrics.SparseCategoricalAccuracy(name='train_accuracy')\n",
    "\n",
    "val_loss = tf.keras.metrics.Mean(name='val_loss')\n",
    "val_accuracy = tf.keras.metrics.SparseCategoricalAccuracy(name='val_accuracy')\n",
    "\n",
    "test_loss = tf.keras.metrics.Mean(name='test_loss')\n",
    "test_accuracy = tf.keras.metrics.SparseCategoricalAccuracy(name='test_accuracy')"
   ]
  },
  {
   "attachments": {},
   "cell_type": "markdown",
   "metadata": {},
   "source": [
    "### Dynamic"
   ]
  },
  {
   "cell_type": "code",
   "execution_count": 6,
   "metadata": {},
   "outputs": [],
   "source": [
    "# @tf.function\n",
    "def train_step(images, labels):\n",
    "  with tf.GradientTape() as tape:\n",
    "    # training=True is only needed if there are layers with different\n",
    "    # behavior during training versus inference (e.g. Dropout).\n",
    "    # predictions = model(images, training=True)\n",
    "    predictions = model(images, training=True)\n",
    "    loss = loss_object(labels, predictions)\n",
    "  gradients = tape.gradient(loss, model.trainable_variables)\n",
    "  optimizer.apply_gradients(zip(gradients, model.trainable_variables))\n",
    "\n",
    "  train_loss(loss)\n",
    "  train_accuracy(labels, predictions)\n",
    "\n",
    "# @tf.function\n",
    "def val_step(images, labels):\n",
    "  # training=False is only needed if there are layers with different\n",
    "  # behavior during training versus inference (e.g. Dropout).\n",
    "  # predictions = model(images, training=False)\n",
    "  predictions = model(images, training=False)\n",
    "  t_loss = loss_object(labels, predictions)\n",
    "\n",
    "  val_loss(t_loss)\n",
    "  val_accuracy(labels, predictions)\n",
    "\n",
    "# @tf.function\n",
    "def test_step(images, labels):\n",
    "  # training=False is only needed if there are layers with different\n",
    "  # behavior during training versus inference (e.g. Dropout).\n",
    "  # predictions = model(images, training=False)\n",
    "  predictions = model(images, training=False)\n",
    "  t_loss = loss_object(labels, predictions)\n",
    "\n",
    "  test_loss(t_loss)\n",
    "  test_accuracy(labels, predictions)"
   ]
  },
  {
   "cell_type": "code",
   "execution_count": 7,
   "metadata": {},
   "outputs": [
    {
     "name": "stderr",
     "output_type": "stream",
     "text": [
      "2023-05-28 16:07:04.363521: I tensorflow/core/common_runtime/executor.cc:1197] [/device:CPU:0] (DEBUG INFO) Executor start aborting (this does not indicate an error and you can ignore this message): INVALID_ARGUMENT: You must feed a value for placeholder tensor 'Placeholder/_4' with dtype int32 and shape [63325]\n",
      "\t [[{{node Placeholder/_4}}]]\n",
      "2023-05-28 16:07:04.363790: I tensorflow/core/common_runtime/executor.cc:1197] [/device:CPU:0] (DEBUG INFO) Executor start aborting (this does not indicate an error and you can ignore this message): INVALID_ARGUMENT: You must feed a value for placeholder tensor 'Placeholder/_4' with dtype int32 and shape [63325]\n",
      "\t [[{{node Placeholder/_4}}]]\n",
      "2023-05-28 16:08:12.719758: I tensorflow/core/common_runtime/executor.cc:1197] [/device:CPU:0] (DEBUG INFO) Executor start aborting (this does not indicate an error and you can ignore this message): INVALID_ARGUMENT: You must feed a value for placeholder tensor 'Placeholder/_0' with dtype string and shape [450]\n",
      "\t [[{{node Placeholder/_0}}]]\n",
      "2023-05-28 16:08:12.720069: I tensorflow/core/common_runtime/executor.cc:1197] [/device:CPU:0] (DEBUG INFO) Executor start aborting (this does not indicate an error and you can ignore this message): INVALID_ARGUMENT: You must feed a value for placeholder tensor 'Placeholder/_4' with dtype int32 and shape [450]\n",
      "\t [[{{node Placeholder/_4}}]]\n"
     ]
    },
    {
     "name": "stdout",
     "output_type": "stream",
     "text": [
      "Epoch [1/5]:: Training Loss:   4.2052, Training Accuracy:   4.9254 %\n",
      "Epoch [1/5]:: Validation Loss: 3.7393, Validation Accuracy: 6.6667 %\n",
      "Epoch [2/5]:: Training Loss:   3.4573, Training Accuracy:   10.7383 %\n",
      "Epoch [2/5]:: Validation Loss: 3.4753, Validation Accuracy: 8.6667 %\n",
      "Epoch [3/5]:: Training Loss:   3.0262, Training Accuracy:   20.0521 %\n",
      "Epoch [3/5]:: Validation Loss: 3.7468, Validation Accuracy: 9.7778 %\n",
      "Epoch [4/5]:: Training Loss:   2.4304, Training Accuracy:   34.5835 %\n",
      "Epoch [4/5]:: Validation Loss: 4.7551, Validation Accuracy: 8.6667 %\n",
      "Epoch [5/5]:: Training Loss:   1.7396, Training Accuracy:   51.9447 %\n",
      "Epoch [5/5]:: Validation Loss: 5.4539, Validation Accuracy: 10.4444 %\n",
      "Epoch [5]:: Test Loss: 5.3384, Test Accuracy: 11.1111 %\n"
     ]
    },
    {
     "name": "stderr",
     "output_type": "stream",
     "text": [
      "2023-05-28 16:12:45.424006: I tensorflow/core/common_runtime/executor.cc:1197] [/device:CPU:0] (DEBUG INFO) Executor start aborting (this does not indicate an error and you can ignore this message): INVALID_ARGUMENT: You must feed a value for placeholder tensor 'Placeholder/_0' with dtype string and shape [450]\n",
      "\t [[{{node Placeholder/_0}}]]\n",
      "2023-05-28 16:12:45.424253: I tensorflow/core/common_runtime/executor.cc:1197] [/device:CPU:0] (DEBUG INFO) Executor start aborting (this does not indicate an error and you can ignore this message): INVALID_ARGUMENT: You must feed a value for placeholder tensor 'Placeholder/_0' with dtype string and shape [450]\n",
      "\t [[{{node Placeholder/_0}}]]\n"
     ]
    },
    {
     "data": {
      "text/html": [
       "<div>\n",
       "<style scoped>\n",
       "    .dataframe tbody tr th:only-of-type {\n",
       "        vertical-align: middle;\n",
       "    }\n",
       "\n",
       "    .dataframe tbody tr th {\n",
       "        vertical-align: top;\n",
       "    }\n",
       "\n",
       "    .dataframe thead th {\n",
       "        text-align: right;\n",
       "    }\n",
       "</style>\n",
       "<table border=\"1\" class=\"dataframe\">\n",
       "  <thead>\n",
       "    <tr style=\"text-align: right;\">\n",
       "      <th></th>\n",
       "      <th>model</th>\n",
       "      <th>accuracy</th>\n",
       "      <th>training_time</th>\n",
       "      <th>inference_time</th>\n",
       "      <th>num_parameters</th>\n",
       "      <th>flops</th>\n",
       "    </tr>\n",
       "  </thead>\n",
       "  <tbody>\n",
       "    <tr>\n",
       "      <th>TensorFlow LeNet5_dynamic</th>\n",
       "      <td>TensorFlow LeNet5</td>\n",
       "      <td>11.111112</td>\n",
       "      <td>5.68441</td>\n",
       "      <td>0.134759</td>\n",
       "      <td>0</td>\n",
       "      <td>0</td>\n",
       "    </tr>\n",
       "  </tbody>\n",
       "</table>\n",
       "</div>"
      ],
      "text/plain": [
       "                                       model   accuracy  training_time  \\\n",
       "TensorFlow LeNet5_dynamic  TensorFlow LeNet5  11.111112        5.68441   \n",
       "\n",
       "                           inference_time  num_parameters  flops  \n",
       "TensorFlow LeNet5_dynamic        0.134759               0      0  "
      ]
     },
     "execution_count": 7,
     "metadata": {},
     "output_type": "execute_result"
    }
   ],
   "source": [
    "EPOCHS = 5\n",
    "start_time = time.time()\n",
    "for epoch in range(EPOCHS):\n",
    "  # Reset the metrics at the start of the next epoch\n",
    "  train_loss.reset_states()\n",
    "  train_accuracy.reset_states()\n",
    "  val_loss.reset_states()\n",
    "  val_accuracy.reset_states()\n",
    "  test_loss.reset_states()\n",
    "  test_accuracy.reset_states()\n",
    "\n",
    "  for images, labels in train_ds:\n",
    "    train_step(images, labels)\n",
    "\n",
    "  for val_images, val_labels in val_ds:\n",
    "    val_step(val_images, val_labels)\n",
    "\n",
    "  print ('Epoch [{}/{}]:: Training Loss:   {:.4f}, Training Accuracy:   {:.4f} %' \n",
    "      .format(epoch+1, EPOCHS, train_loss.result(), train_accuracy.result()*100))\n",
    "  print ('Epoch [{}/{}]:: Validation Loss: {:.4f}, Validation Accuracy: {:.4f} %' \n",
    "      .format(epoch+1, EPOCHS, val_loss.result(), val_accuracy.result()*100))\n",
    "  \n",
    "  df_model_tf_dynamic.loc[str(epoch+1)] = ['TensorFlow LeNet5', epoch+1, \n",
    "                                train_loss.result().numpy(), (train_accuracy.result()*100).numpy(), \n",
    "                                val_loss.result().numpy(), (val_accuracy.result()*100).numpy()]\n",
    "training_time = time.time() - start_time\n",
    "\n",
    "# Test the model\n",
    "start_time = time.time()\n",
    "for test_images, test_labels in test_ds:\n",
    "  test_step(test_images, test_labels)\n",
    "inference_time = time.time() - start_time\n",
    "print ('Epoch [{}]:: Test Loss: {:.4f}, Test Accuracy: {:.4f} %' \n",
    "      .format(EPOCHS, test_loss.result(), test_accuracy.result()*100))\n",
    "\n",
    "df_performance.loc['TensorFlow LeNet5_dynamic'] = ['TensorFlow LeNet5',\n",
    "      (test_accuracy.result()*100).numpy(),\n",
    "      training_time/60, inference_time,\n",
    "      0,0]\n",
    "df_performance.head(5)"
   ]
  },
  {
   "attachments": {},
   "cell_type": "markdown",
   "metadata": {},
   "source": [
    "## Pytorch\n",
    "https://github.com/gradient-ai/LeNet5-Tutorial?ref=blog.paperspace.com"
   ]
  },
  {
   "cell_type": "code",
   "execution_count": 8,
   "metadata": {},
   "outputs": [],
   "source": [
    "import os\n",
    "import torch\n",
    "import torch.nn as nn\n",
    "import torchvision.transforms as transforms\n",
    "import torchvision.datasets as datasets\n",
    "from thop import profile"
   ]
  },
  {
   "cell_type": "code",
   "execution_count": 9,
   "metadata": {},
   "outputs": [],
   "source": [
    "# Dataset\n",
    "# # mini-ImageNet datase\n",
    "# 定義自己的dataset\n",
    "class dataset_C0(torch.utils.data.Dataset): # type: ignore\n",
    "    def __init__(self, file_path, image_size=(256,256)):\n",
    "        with open(file_path, 'r') as f:\n",
    "            lines = f.readlines()\n",
    "        self.data = [line.rstrip().split() for line in lines]\n",
    "        self.transform = transforms.Compose([\n",
    "            transforms.Resize(image_size),\n",
    "            # transforms.Grayscale(num_output_channels=1),\n",
    "            # transforms.CenterCrop(image_size-1),\n",
    "            transforms.ToTensor(),\n",
    "            # transforms.Normalize(mean=[0.485, 0.456, 0.406],std=[0.229, 0.224, 0.225]) # RGB\n",
    "            transforms.Normalize(mean=(0.456),std=(0.224)) # Gray\n",
    "        ])\n",
    "        self.root_path = './dataset/'\n",
    "\n",
    "    def __getitem__(self, idx):\n",
    "        image_path, image_label = self.data[idx]\n",
    "        img = Image.open(self.root_path+image_path).convert('L') # GrayScale\n",
    "        img = self.transform(img)\n",
    "        return img, int(image_label)\n",
    "\n",
    "    def __len__(self):\n",
    "        return len(self.data)\n",
    "\n",
    "# train set, val set, test set\n",
    "dataset_path = './dataset'\n",
    "feature_name_list = ['Resnet50','HoG']\n",
    "feature_name = feature_name_list[0]\n",
    "batch_size = 450\n",
    "num_classes = 50\n",
    "IMG_SIZE = (64,64)#(128,128)#(32,32)\n",
    "train_data = dataset_C0(os.path.join(dataset_path,'train.txt'), IMG_SIZE)\n",
    "val_data = dataset_C0(os.path.join(dataset_path,'val.txt'), IMG_SIZE)\n",
    "test_data = dataset_C0(os.path.join(dataset_path,'test.txt'), IMG_SIZE)\n",
    "\n",
    "train_loader = torch.utils.data.DataLoader(train_data, batch_size=batch_size, shuffle=True) # type: ignore\n",
    "val_loader = torch.utils.data.DataLoader(val_data, batch_size=batch_size, shuffle=False) # type: ignore\n",
    "test_loader = torch.utils.data.DataLoader(test_data, batch_size=batch_size, shuffle=False) # type: ignore"
   ]
  },
  {
   "cell_type": "code",
   "execution_count": 35,
   "metadata": {},
   "outputs": [
    {
     "name": "stdout",
     "output_type": "stream",
     "text": [
      "1380166\n",
      "[INFO] Register count_convNd() for <class 'torch.nn.modules.conv.Conv2d'>.\n",
      "[INFO] Register count_normalization() for <class 'torch.nn.modules.batchnorm.BatchNorm2d'>.\n",
      "[INFO] Register zero_ops() for <class 'torch.nn.modules.activation.ReLU'>.\n",
      "[INFO] Register zero_ops() for <class 'torch.nn.modules.pooling.MaxPool2d'>.\n",
      "[INFO] Register zero_ops() for <class 'torch.nn.modules.container.Sequential'>.\n",
      "[INFO] Register count_linear() for <class 'torch.nn.modules.linear.Linear'>.\n"
     ]
    },
    {
     "ename": "TypeError",
     "evalue": "conv2d() received an invalid combination of arguments - got (method, Parameter, Parameter, tuple, tuple, tuple, int), but expected one of:\n * (Tensor input, Tensor weight, Tensor bias, tuple of ints stride, tuple of ints padding, tuple of ints dilation, int groups)\n      didn't match because some of the arguments have invalid types: (!method!, !Parameter!, !Parameter!, !tuple of (int, int)!, !tuple of (int, int)!, !tuple of (int, int)!, int)\n * (Tensor input, Tensor weight, Tensor bias, tuple of ints stride, str padding, tuple of ints dilation, int groups)\n      didn't match because some of the arguments have invalid types: (!method!, !Parameter!, !Parameter!, !tuple of (int, int)!, !tuple of (int, int)!, !tuple of (int, int)!, int)\n",
     "output_type": "error",
     "traceback": [
      "\u001b[0;31m---------------------------------------------------------------------------\u001b[0m",
      "\u001b[0;31mTypeError\u001b[0m                                 Traceback (most recent call last)",
      "Cell \u001b[0;32mIn[35], line 5\u001b[0m\n\u001b[1;32m      3\u001b[0m \u001b[39mprint\u001b[39m(total_params)\n\u001b[1;32m      4\u001b[0m input_data \u001b[39m=\u001b[39m torch\u001b[39m.\u001b[39mrandn(\u001b[39m1\u001b[39m, \u001b[39m1\u001b[39m, \u001b[39m64\u001b[39m, \u001b[39m64\u001b[39m)\u001b[39m.\u001b[39mto(device)\n\u001b[0;32m----> 5\u001b[0m flops, params \u001b[39m=\u001b[39m profile(model, inputs\u001b[39m=\u001b[39;49m(\u001b[39minput\u001b[39;49m, ))\n\u001b[1;32m      6\u001b[0m \u001b[39mprint\u001b[39m(\u001b[39m'\u001b[39m\u001b[39mFLOPs: \u001b[39m\u001b[39m{:,.2f}\u001b[39;00m\u001b[39m'\u001b[39m\u001b[39m.\u001b[39mformat(flops))\n",
      "File \u001b[0;32m~/miniconda3/envs/DL/lib/python3.8/site-packages/thop/profile.py:212\u001b[0m, in \u001b[0;36mprofile\u001b[0;34m(model, inputs, custom_ops, verbose, ret_layer_info, report_missing)\u001b[0m\n\u001b[1;32m    209\u001b[0m model\u001b[39m.\u001b[39mapply(add_hooks)\n\u001b[1;32m    211\u001b[0m \u001b[39mwith\u001b[39;00m torch\u001b[39m.\u001b[39mno_grad():\n\u001b[0;32m--> 212\u001b[0m     model(\u001b[39m*\u001b[39;49minputs)\n\u001b[1;32m    214\u001b[0m \u001b[39mdef\u001b[39;00m \u001b[39mdfs_count\u001b[39m(module: nn\u001b[39m.\u001b[39mModule, prefix\u001b[39m=\u001b[39m\u001b[39m\"\u001b[39m\u001b[39m\\t\u001b[39;00m\u001b[39m\"\u001b[39m) \u001b[39m-\u001b[39m\u001b[39m>\u001b[39m (\u001b[39mint\u001b[39m, \u001b[39mint\u001b[39m):\n\u001b[1;32m    215\u001b[0m     total_ops, total_params \u001b[39m=\u001b[39m module\u001b[39m.\u001b[39mtotal_ops\u001b[39m.\u001b[39mitem(), \u001b[39m0\u001b[39m\n",
      "File \u001b[0;32m~/miniconda3/envs/DL/lib/python3.8/site-packages/torch/nn/modules/module.py:1501\u001b[0m, in \u001b[0;36mModule._call_impl\u001b[0;34m(self, *args, **kwargs)\u001b[0m\n\u001b[1;32m   1496\u001b[0m \u001b[39m# If we don't have any hooks, we want to skip the rest of the logic in\u001b[39;00m\n\u001b[1;32m   1497\u001b[0m \u001b[39m# this function, and just call forward.\u001b[39;00m\n\u001b[1;32m   1498\u001b[0m \u001b[39mif\u001b[39;00m \u001b[39mnot\u001b[39;00m (\u001b[39mself\u001b[39m\u001b[39m.\u001b[39m_backward_hooks \u001b[39mor\u001b[39;00m \u001b[39mself\u001b[39m\u001b[39m.\u001b[39m_backward_pre_hooks \u001b[39mor\u001b[39;00m \u001b[39mself\u001b[39m\u001b[39m.\u001b[39m_forward_hooks \u001b[39mor\u001b[39;00m \u001b[39mself\u001b[39m\u001b[39m.\u001b[39m_forward_pre_hooks\n\u001b[1;32m   1499\u001b[0m         \u001b[39mor\u001b[39;00m _global_backward_pre_hooks \u001b[39mor\u001b[39;00m _global_backward_hooks\n\u001b[1;32m   1500\u001b[0m         \u001b[39mor\u001b[39;00m _global_forward_hooks \u001b[39mor\u001b[39;00m _global_forward_pre_hooks):\n\u001b[0;32m-> 1501\u001b[0m     \u001b[39mreturn\u001b[39;00m forward_call(\u001b[39m*\u001b[39;49margs, \u001b[39m*\u001b[39;49m\u001b[39m*\u001b[39;49mkwargs)\n\u001b[1;32m   1502\u001b[0m \u001b[39m# Do not call functions when jit is used\u001b[39;00m\n\u001b[1;32m   1503\u001b[0m full_backward_hooks, non_full_backward_hooks \u001b[39m=\u001b[39m [], []\n",
      "Cell \u001b[0;32mIn[10], line 20\u001b[0m, in \u001b[0;36mpytorch_LeNet5.forward\u001b[0;34m(self, x)\u001b[0m\n\u001b[1;32m     19\u001b[0m \u001b[39mdef\u001b[39;00m \u001b[39mforward\u001b[39m(\u001b[39mself\u001b[39m, x):\n\u001b[0;32m---> 20\u001b[0m     out \u001b[39m=\u001b[39m \u001b[39mself\u001b[39;49m\u001b[39m.\u001b[39;49mlayer1(x)\n\u001b[1;32m     21\u001b[0m     out \u001b[39m=\u001b[39m \u001b[39mself\u001b[39m\u001b[39m.\u001b[39mlayer2(out)\n\u001b[1;32m     22\u001b[0m     out \u001b[39m=\u001b[39m out\u001b[39m.\u001b[39mreshape(out\u001b[39m.\u001b[39msize(\u001b[39m0\u001b[39m), \u001b[39m-\u001b[39m\u001b[39m1\u001b[39m)\n",
      "File \u001b[0;32m~/miniconda3/envs/DL/lib/python3.8/site-packages/torch/nn/modules/module.py:1538\u001b[0m, in \u001b[0;36mModule._call_impl\u001b[0;34m(self, *args, **kwargs)\u001b[0m\n\u001b[1;32m   1535\u001b[0m     bw_hook \u001b[39m=\u001b[39m hooks\u001b[39m.\u001b[39mBackwardHook(\u001b[39mself\u001b[39m, full_backward_hooks, backward_pre_hooks)\n\u001b[1;32m   1536\u001b[0m     args \u001b[39m=\u001b[39m bw_hook\u001b[39m.\u001b[39msetup_input_hook(args)\n\u001b[0;32m-> 1538\u001b[0m result \u001b[39m=\u001b[39m forward_call(\u001b[39m*\u001b[39;49margs, \u001b[39m*\u001b[39;49m\u001b[39m*\u001b[39;49mkwargs)\n\u001b[1;32m   1539\u001b[0m \u001b[39mif\u001b[39;00m _global_forward_hooks \u001b[39mor\u001b[39;00m \u001b[39mself\u001b[39m\u001b[39m.\u001b[39m_forward_hooks:\n\u001b[1;32m   1540\u001b[0m     \u001b[39mfor\u001b[39;00m hook_id, hook \u001b[39min\u001b[39;00m (\n\u001b[1;32m   1541\u001b[0m         \u001b[39m*\u001b[39m_global_forward_hooks\u001b[39m.\u001b[39mitems(),\n\u001b[1;32m   1542\u001b[0m         \u001b[39m*\u001b[39m\u001b[39mself\u001b[39m\u001b[39m.\u001b[39m_forward_hooks\u001b[39m.\u001b[39mitems(),\n\u001b[1;32m   1543\u001b[0m     ):\n",
      "File \u001b[0;32m~/miniconda3/envs/DL/lib/python3.8/site-packages/torch/nn/modules/container.py:217\u001b[0m, in \u001b[0;36mSequential.forward\u001b[0;34m(self, input)\u001b[0m\n\u001b[1;32m    215\u001b[0m \u001b[39mdef\u001b[39;00m \u001b[39mforward\u001b[39m(\u001b[39mself\u001b[39m, \u001b[39minput\u001b[39m):\n\u001b[1;32m    216\u001b[0m     \u001b[39mfor\u001b[39;00m module \u001b[39min\u001b[39;00m \u001b[39mself\u001b[39m:\n\u001b[0;32m--> 217\u001b[0m         \u001b[39minput\u001b[39m \u001b[39m=\u001b[39m module(\u001b[39minput\u001b[39;49m)\n\u001b[1;32m    218\u001b[0m     \u001b[39mreturn\u001b[39;00m \u001b[39minput\u001b[39m\n",
      "File \u001b[0;32m~/miniconda3/envs/DL/lib/python3.8/site-packages/torch/nn/modules/module.py:1538\u001b[0m, in \u001b[0;36mModule._call_impl\u001b[0;34m(self, *args, **kwargs)\u001b[0m\n\u001b[1;32m   1535\u001b[0m     bw_hook \u001b[39m=\u001b[39m hooks\u001b[39m.\u001b[39mBackwardHook(\u001b[39mself\u001b[39m, full_backward_hooks, backward_pre_hooks)\n\u001b[1;32m   1536\u001b[0m     args \u001b[39m=\u001b[39m bw_hook\u001b[39m.\u001b[39msetup_input_hook(args)\n\u001b[0;32m-> 1538\u001b[0m result \u001b[39m=\u001b[39m forward_call(\u001b[39m*\u001b[39;49margs, \u001b[39m*\u001b[39;49m\u001b[39m*\u001b[39;49mkwargs)\n\u001b[1;32m   1539\u001b[0m \u001b[39mif\u001b[39;00m _global_forward_hooks \u001b[39mor\u001b[39;00m \u001b[39mself\u001b[39m\u001b[39m.\u001b[39m_forward_hooks:\n\u001b[1;32m   1540\u001b[0m     \u001b[39mfor\u001b[39;00m hook_id, hook \u001b[39min\u001b[39;00m (\n\u001b[1;32m   1541\u001b[0m         \u001b[39m*\u001b[39m_global_forward_hooks\u001b[39m.\u001b[39mitems(),\n\u001b[1;32m   1542\u001b[0m         \u001b[39m*\u001b[39m\u001b[39mself\u001b[39m\u001b[39m.\u001b[39m_forward_hooks\u001b[39m.\u001b[39mitems(),\n\u001b[1;32m   1543\u001b[0m     ):\n",
      "File \u001b[0;32m~/miniconda3/envs/DL/lib/python3.8/site-packages/torch/nn/modules/conv.py:463\u001b[0m, in \u001b[0;36mConv2d.forward\u001b[0;34m(self, input)\u001b[0m\n\u001b[1;32m    462\u001b[0m \u001b[39mdef\u001b[39;00m \u001b[39mforward\u001b[39m(\u001b[39mself\u001b[39m, \u001b[39minput\u001b[39m: Tensor) \u001b[39m-\u001b[39m\u001b[39m>\u001b[39m Tensor:\n\u001b[0;32m--> 463\u001b[0m     \u001b[39mreturn\u001b[39;00m \u001b[39mself\u001b[39;49m\u001b[39m.\u001b[39;49m_conv_forward(\u001b[39minput\u001b[39;49m, \u001b[39mself\u001b[39;49m\u001b[39m.\u001b[39;49mweight, \u001b[39mself\u001b[39;49m\u001b[39m.\u001b[39;49mbias)\n",
      "File \u001b[0;32m~/miniconda3/envs/DL/lib/python3.8/site-packages/torch/nn/modules/conv.py:459\u001b[0m, in \u001b[0;36mConv2d._conv_forward\u001b[0;34m(self, input, weight, bias)\u001b[0m\n\u001b[1;32m    455\u001b[0m \u001b[39mif\u001b[39;00m \u001b[39mself\u001b[39m\u001b[39m.\u001b[39mpadding_mode \u001b[39m!=\u001b[39m \u001b[39m'\u001b[39m\u001b[39mzeros\u001b[39m\u001b[39m'\u001b[39m:\n\u001b[1;32m    456\u001b[0m     \u001b[39mreturn\u001b[39;00m F\u001b[39m.\u001b[39mconv2d(F\u001b[39m.\u001b[39mpad(\u001b[39minput\u001b[39m, \u001b[39mself\u001b[39m\u001b[39m.\u001b[39m_reversed_padding_repeated_twice, mode\u001b[39m=\u001b[39m\u001b[39mself\u001b[39m\u001b[39m.\u001b[39mpadding_mode),\n\u001b[1;32m    457\u001b[0m                     weight, bias, \u001b[39mself\u001b[39m\u001b[39m.\u001b[39mstride,\n\u001b[1;32m    458\u001b[0m                     _pair(\u001b[39m0\u001b[39m), \u001b[39mself\u001b[39m\u001b[39m.\u001b[39mdilation, \u001b[39mself\u001b[39m\u001b[39m.\u001b[39mgroups)\n\u001b[0;32m--> 459\u001b[0m \u001b[39mreturn\u001b[39;00m F\u001b[39m.\u001b[39;49mconv2d(\u001b[39minput\u001b[39;49m, weight, bias, \u001b[39mself\u001b[39;49m\u001b[39m.\u001b[39;49mstride,\n\u001b[1;32m    460\u001b[0m                 \u001b[39mself\u001b[39;49m\u001b[39m.\u001b[39;49mpadding, \u001b[39mself\u001b[39;49m\u001b[39m.\u001b[39;49mdilation, \u001b[39mself\u001b[39;49m\u001b[39m.\u001b[39;49mgroups)\n",
      "\u001b[0;31mTypeError\u001b[0m: conv2d() received an invalid combination of arguments - got (method, Parameter, Parameter, tuple, tuple, tuple, int), but expected one of:\n * (Tensor input, Tensor weight, Tensor bias, tuple of ints stride, tuple of ints padding, tuple of ints dilation, int groups)\n      didn't match because some of the arguments have invalid types: (!method!, !Parameter!, !Parameter!, !tuple of (int, int)!, !tuple of (int, int)!, !tuple of (int, int)!, int)\n * (Tensor input, Tensor weight, Tensor bias, tuple of ints stride, str padding, tuple of ints dilation, int groups)\n      didn't match because some of the arguments have invalid types: (!method!, !Parameter!, !Parameter!, !tuple of (int, int)!, !tuple of (int, int)!, !tuple of (int, int)!, int)\n"
     ]
    }
   ],
   "source": [
    "model = pytorch_LeNet5(num_classes)\n",
    "total_params = sum(p.numel() for p in model.parameters())\n",
    "print(total_params)\n",
    "input_data = torch.randn(1, 1, 64, 64).to(device)\n",
    "flops, params = profile(model, inputs=(input, ))\n",
    "print('FLOPs: {:,.2f}'.format(flops))"
   ]
  },
  {
   "cell_type": "code",
   "execution_count": null,
   "metadata": {},
   "outputs": [],
   "source": [
    "total_params = sum(\n",
    "\tparam.numel() for param in model.parameters()\n",
    ")\n"
   ]
  },
  {
   "cell_type": "code",
   "execution_count": 11,
   "metadata": {},
   "outputs": [],
   "source": [
    "device = torch.device('cuda' if torch.cuda.is_available() else 'cpu')\n",
    "model = pytorch_LeNet5(num_classes).to(device)\n",
    "\n",
    "learning_rate = 0.001\n",
    "num_epochs = 5\n",
    "\n",
    "#Setting the loss function\n",
    "cost = nn.CrossEntropyLoss()\n",
    "\n",
    "#Setting the optimizer with the model parameters and learning rate\n",
    "optimizer = torch.optim.Adam(model.parameters(), lr=learning_rate)"
   ]
  },
  {
   "cell_type": "code",
   "execution_count": 12,
   "metadata": {},
   "outputs": [
    {
     "name": "stdout",
     "output_type": "stream",
     "text": [
      "Epoch [1/5]:: Training Loss:   3.3508, Training Accuracy:   10.1619 %\n",
      "Epoch [1/5]:: Validation Loss: 3.2702, Validation Accuracy: 13.1111 %\n"
     ]
    },
    {
     "name": "stderr",
     "output_type": "stream",
     "text": [
      "/tmp/ipykernel_657015/3821053885.py:43: SettingWithCopyWarning: \n",
      "A value is trying to be set on a copy of a slice from a DataFrame\n",
      "\n",
      "See the caveats in the documentation: https://pandas.pydata.org/pandas-docs/stable/user_guide/indexing.html#returning-a-view-versus-a-copy\n",
      "  df_model_pt.loc[str(epoch+1)] = ['PyTorch LeNet5', epoch+1,\n"
     ]
    },
    {
     "name": "stdout",
     "output_type": "stream",
     "text": [
      "Epoch [2/5]:: Training Loss:   3.0654, Training Accuracy:   16.4106 %\n",
      "Epoch [2/5]:: Validation Loss: 3.1524, Validation Accuracy: 17.3333 %\n"
     ]
    },
    {
     "name": "stderr",
     "output_type": "stream",
     "text": [
      "/tmp/ipykernel_657015/3821053885.py:43: SettingWithCopyWarning: \n",
      "A value is trying to be set on a copy of a slice from a DataFrame\n",
      "\n",
      "See the caveats in the documentation: https://pandas.pydata.org/pandas-docs/stable/user_guide/indexing.html#returning-a-view-versus-a-copy\n",
      "  df_model_pt.loc[str(epoch+1)] = ['PyTorch LeNet5', epoch+1,\n"
     ]
    },
    {
     "name": "stdout",
     "output_type": "stream",
     "text": [
      "Epoch [3/5]:: Training Loss:   2.9494, Training Accuracy:   19.5973 %\n",
      "Epoch [3/5]:: Validation Loss: 3.0596, Validation Accuracy: 17.3333 %\n"
     ]
    },
    {
     "name": "stderr",
     "output_type": "stream",
     "text": [
      "/tmp/ipykernel_657015/3821053885.py:43: SettingWithCopyWarning: \n",
      "A value is trying to be set on a copy of a slice from a DataFrame\n",
      "\n",
      "See the caveats in the documentation: https://pandas.pydata.org/pandas-docs/stable/user_guide/indexing.html#returning-a-view-versus-a-copy\n",
      "  df_model_pt.loc[str(epoch+1)] = ['PyTorch LeNet5', epoch+1,\n"
     ]
    },
    {
     "name": "stdout",
     "output_type": "stream",
     "text": [
      "Epoch [4/5]:: Training Loss:   2.8559, Training Accuracy:   22.3324 %\n",
      "Epoch [4/5]:: Validation Loss: 3.0360, Validation Accuracy: 19.5556 %\n"
     ]
    },
    {
     "name": "stderr",
     "output_type": "stream",
     "text": [
      "/tmp/ipykernel_657015/3821053885.py:43: SettingWithCopyWarning: \n",
      "A value is trying to be set on a copy of a slice from a DataFrame\n",
      "\n",
      "See the caveats in the documentation: https://pandas.pydata.org/pandas-docs/stable/user_guide/indexing.html#returning-a-view-versus-a-copy\n",
      "  df_model_pt.loc[str(epoch+1)] = ['PyTorch LeNet5', epoch+1,\n"
     ]
    },
    {
     "name": "stdout",
     "output_type": "stream",
     "text": [
      "Epoch [5/5]:: Training Loss:   2.7829, Training Accuracy:   24.7011 %\n",
      "Epoch [5/5]:: Validation Loss: 2.9825, Validation Accuracy: 20.2222 %\n"
     ]
    },
    {
     "name": "stderr",
     "output_type": "stream",
     "text": [
      "/tmp/ipykernel_657015/3821053885.py:43: SettingWithCopyWarning: \n",
      "A value is trying to be set on a copy of a slice from a DataFrame\n",
      "\n",
      "See the caveats in the documentation: https://pandas.pydata.org/pandas-docs/stable/user_guide/indexing.html#returning-a-view-versus-a-copy\n",
      "  df_model_pt.loc[str(epoch+1)] = ['PyTorch LeNet5', epoch+1,\n"
     ]
    }
   ],
   "source": [
    "total_step = len(train_loader)\n",
    "start_time = time.time()\n",
    "for epoch in range(num_epochs):\n",
    "    correct = 0\n",
    "    total = 0\n",
    "    for i, (images, labels) in enumerate(train_loader):  \n",
    "        images = images.to(device)\n",
    "        labels = labels.to(device)\n",
    "        \n",
    "        #Forward pass\n",
    "        outputs = model(images)\n",
    "        train_loss = cost(outputs, labels)\n",
    "        _, predicted = torch.max(outputs.data, 1)\n",
    "        \t\n",
    "        # Backward and optimize\n",
    "        optimizer.zero_grad()\n",
    "        train_loss.backward()\n",
    "        optimizer.step()\n",
    "\n",
    "        total += labels.size(0)\n",
    "        correct += (predicted == labels).sum().item()\n",
    "\n",
    "    train_accuracy = 100 * correct / total\n",
    "    print ('Epoch [{}/{}]:: Training Loss:   {:.4f}, Training Accuracy:   {:.4f} %' \n",
    "                    .format(epoch+1, num_epochs, train_loss.item(), train_accuracy))\n",
    "\n",
    "    with torch.no_grad(): \n",
    "        correct = 0\n",
    "        total = 0\n",
    "        for i, (images, labels) in enumerate(val_loader): \n",
    "            images = images.to(device)\n",
    "            labels = labels.to(device)\n",
    "            outputs = model(images)\n",
    "            val_loss = cost(outputs, labels)\n",
    "            _, predicted = torch.max(outputs.data, 1)\n",
    "            total += labels.size(0)\n",
    "            correct += (predicted == labels).sum().item()\n",
    "\n",
    "        val_accuracy = 100 * correct / total\n",
    "        print ('Epoch [{}/{}]:: Validation Loss: {:.4f}, Validation Accuracy: {:.4f} %' \n",
    "                    .format(epoch+1, num_epochs, val_loss.item(), val_accuracy))\n",
    "    \n",
    "    df_model_pt.loc[str(epoch+1)] = ['PyTorch LeNet5', epoch+1, \n",
    "                                train_loss.item(), train_accuracy,\n",
    "                                val_loss.item(), val_accuracy]\n",
    "\n",
    "training_time = time.time() - start_time\n"
   ]
  },
  {
   "cell_type": "code",
   "execution_count": 36,
   "metadata": {},
   "outputs": [
    {
     "data": {
      "text/html": [
       "<div>\n",
       "<style scoped>\n",
       "    .dataframe tbody tr th:only-of-type {\n",
       "        vertical-align: middle;\n",
       "    }\n",
       "\n",
       "    .dataframe tbody tr th {\n",
       "        vertical-align: top;\n",
       "    }\n",
       "\n",
       "    .dataframe thead th {\n",
       "        text-align: right;\n",
       "    }\n",
       "</style>\n",
       "<table border=\"1\" class=\"dataframe\">\n",
       "  <thead>\n",
       "    <tr style=\"text-align: right;\">\n",
       "      <th></th>\n",
       "      <th>model</th>\n",
       "      <th>epoch</th>\n",
       "      <th>train_loss</th>\n",
       "      <th>train_acc</th>\n",
       "      <th>val_loss</th>\n",
       "      <th>val_acc</th>\n",
       "    </tr>\n",
       "  </thead>\n",
       "  <tbody>\n",
       "    <tr>\n",
       "      <th>0</th>\n",
       "      <td>model1</td>\n",
       "      <td>0</td>\n",
       "      <td>0.000000</td>\n",
       "      <td>0.000000</td>\n",
       "      <td>0.000000</td>\n",
       "      <td>1.000000</td>\n",
       "    </tr>\n",
       "    <tr>\n",
       "      <th>1</th>\n",
       "      <td>PyTorch LeNet5</td>\n",
       "      <td>1</td>\n",
       "      <td>3.252679</td>\n",
       "      <td>10.176076</td>\n",
       "      <td>3.301764</td>\n",
       "      <td>14.444444</td>\n",
       "    </tr>\n",
       "    <tr>\n",
       "      <th>2</th>\n",
       "      <td>PyTorch LeNet5</td>\n",
       "      <td>2</td>\n",
       "      <td>3.048105</td>\n",
       "      <td>16.604816</td>\n",
       "      <td>3.096030</td>\n",
       "      <td>17.555556</td>\n",
       "    </tr>\n",
       "    <tr>\n",
       "      <th>3</th>\n",
       "      <td>PyTorch LeNet5</td>\n",
       "      <td>3</td>\n",
       "      <td>3.002159</td>\n",
       "      <td>20.151599</td>\n",
       "      <td>3.068748</td>\n",
       "      <td>19.333333</td>\n",
       "    </tr>\n",
       "  </tbody>\n",
       "</table>\n",
       "</div>"
      ],
      "text/plain": [
       "            model  epoch  train_loss  train_acc  val_loss    val_acc\n",
       "0          model1      0    0.000000   0.000000  0.000000   1.000000\n",
       "1  PyTorch LeNet5      1    3.252679  10.176076  3.301764  14.444444\n",
       "2  PyTorch LeNet5      2    3.048105  16.604816  3.096030  17.555556\n",
       "3  PyTorch LeNet5      3    3.002159  20.151599  3.068748  19.333333"
      ]
     },
     "execution_count": 36,
     "metadata": {},
     "output_type": "execute_result"
    }
   ],
   "source": [
    "df_model_pt"
   ]
  },
  {
   "cell_type": "code",
   "execution_count": 92,
   "metadata": {},
   "outputs": [],
   "source": [
    "# 统计模型的FLOPs和参数数量\n",
    "# input_data = torch.randn(1, 1, 64, 64).to(device)\n",
    "# flops, params = profile(model, inputs=(input, ))\n",
    "# print('MACs: {:,.2f}'.format(flops))"
   ]
  },
  {
   "cell_type": "code",
   "execution_count": 13,
   "metadata": {},
   "outputs": [
    {
     "name": "stdout",
     "output_type": "stream",
     "text": [
      "Test Accuracy: 23.1111 %\n"
     ]
    },
    {
     "data": {
      "text/html": [
       "<div>\n",
       "<style scoped>\n",
       "    .dataframe tbody tr th:only-of-type {\n",
       "        vertical-align: middle;\n",
       "    }\n",
       "\n",
       "    .dataframe tbody tr th {\n",
       "        vertical-align: top;\n",
       "    }\n",
       "\n",
       "    .dataframe thead th {\n",
       "        text-align: right;\n",
       "    }\n",
       "</style>\n",
       "<table border=\"1\" class=\"dataframe\">\n",
       "  <thead>\n",
       "    <tr style=\"text-align: right;\">\n",
       "      <th></th>\n",
       "      <th>model</th>\n",
       "      <th>accuracy</th>\n",
       "      <th>training_time</th>\n",
       "      <th>inference_time</th>\n",
       "      <th>num_parameters</th>\n",
       "      <th>flops</th>\n",
       "    </tr>\n",
       "  </thead>\n",
       "  <tbody>\n",
       "    <tr>\n",
       "      <th>TensorFlow LeNet5_dynamic</th>\n",
       "      <td>TensorFlow LeNet5</td>\n",
       "      <td>11.111112</td>\n",
       "      <td>5.684410</td>\n",
       "      <td>0.134759</td>\n",
       "      <td>0</td>\n",
       "      <td>0</td>\n",
       "    </tr>\n",
       "    <tr>\n",
       "      <th>PyTroch LeNet5</th>\n",
       "      <td>PyTroch LeNet5</td>\n",
       "      <td>23.111111</td>\n",
       "      <td>3.590316</td>\n",
       "      <td>0.289923</td>\n",
       "      <td>0</td>\n",
       "      <td>0</td>\n",
       "    </tr>\n",
       "  </tbody>\n",
       "</table>\n",
       "</div>"
      ],
      "text/plain": [
       "                                       model   accuracy  training_time  \\\n",
       "TensorFlow LeNet5_dynamic  TensorFlow LeNet5  11.111112       5.684410   \n",
       "PyTroch LeNet5                PyTroch LeNet5  23.111111       3.590316   \n",
       "\n",
       "                           inference_time  num_parameters  flops  \n",
       "TensorFlow LeNet5_dynamic        0.134759               0      0  \n",
       "PyTroch LeNet5                   0.289923               0      0  "
      ]
     },
     "execution_count": 13,
     "metadata": {},
     "output_type": "execute_result"
    }
   ],
   "source": [
    "# Test the model\n",
    "start_time = time.time()\n",
    "with torch.no_grad():\n",
    "    correct = 0\n",
    "    total = 0\n",
    "    for images, labels in test_loader:\n",
    "        images = images.to(device)\n",
    "        labels = labels.to(device)\n",
    "        outputs = model(images)\n",
    "        _, predicted = torch.max(outputs.data, 1)\n",
    "        total += labels.size(0)\n",
    "        correct += (predicted == labels).sum().item()\n",
    "    test_accuracy = 100 * correct / total\n",
    "    print('Test Accuracy: {:.4f} %'.format(test_accuracy))\n",
    "inference_time = time.time() - start_time\n",
    "    \n",
    "df_performance.loc['PyTroch LeNet5'] = ['PyTroch LeNet5',\n",
    "    test_accuracy,\n",
    "    training_time/60, inference_time,\n",
    "    0, 0]\n",
    "df_performance.head(5)\n"
   ]
  },
  {
   "attachments": {},
   "cell_type": "markdown",
   "metadata": {},
   "source": [
    "# Performance Comparison (accuracy, inference time, space complexity, and flops) of the TF/Pytorch and your handcrafted versions. "
   ]
  },
  {
   "attachments": {},
   "cell_type": "markdown",
   "metadata": {},
   "source": [
    "## My handcrafted versions"
   ]
  },
  {
   "cell_type": "code",
   "execution_count": 8,
   "metadata": {},
   "outputs": [
    {
     "ename": "ModuleNotFoundError",
     "evalue": "No module named 'net'",
     "output_type": "error",
     "traceback": [
      "\u001b[0;31m---------------------------------------------------------------------------\u001b[0m",
      "\u001b[0;31mModuleNotFoundError\u001b[0m                       Traceback (most recent call last)",
      "Cell \u001b[0;32mIn[8], line 1\u001b[0m\n\u001b[0;32m----> 1\u001b[0m \u001b[39mfrom\u001b[39;00m \u001b[39mnet\u001b[39;00m \u001b[39mimport\u001b[39;00m LeNet5_mini\n\u001b[1;32m      2\u001b[0m \u001b[39mimport\u001b[39;00m \u001b[39mimportlib\u001b[39;00m\n\u001b[1;32m      3\u001b[0m importlib\u001b[39m.\u001b[39mreload(LeNet5_mini)\n",
      "\u001b[0;31mModuleNotFoundError\u001b[0m: No module named 'net'"
     ]
    }
   ],
   "source": [
    "from net import LeNet5_mini\n",
    "import importlib\n",
    "importlib.reload(LeNet5_mini)\n",
    "net = LeNet5_mini.LeNet5_mini()"
   ]
  },
  {
   "cell_type": "code",
   "execution_count": null,
   "metadata": {},
   "outputs": [],
   "source": [
    "def top_1_acc(y_true, y_pred):\n",
    "    \"\"\"\n",
    "    計算 top 1 accuracy\n",
    "    \n",
    "    參數:\n",
    "    y_true -- 真實標籤 (numpy array= m x 1)\n",
    "    y_pred -- 模型預測機率 (numpy array= m x n)\n",
    "    k -- 前 k 高的機率會被考慮 (int)\n",
    "    m -- 樣本個數\n",
    "    n -- 標籤數量\n",
    "    \n",
    "    回傳:\n",
    "    accuracy -- top k accuracy (float)\n",
    "    \"\"\"\n",
    "    sorted_indices = np.flip(np.argsort(y_pred,axis=1),axis=1) # Descent sorting\n",
    "    pred_top1 = sorted_indices[:,0]\n",
    "    accuracy = np.mean(y_true==pred_top1)\n",
    "    \n",
    "    return accuracy"
   ]
  },
  {
   "cell_type": "code",
   "execution_count": 102,
   "metadata": {},
   "outputs": [
    {
     "ename": "NameError",
     "evalue": "name 'net' is not defined",
     "output_type": "error",
     "traceback": [
      "\u001b[0;31m---------------------------------------------------------------------------\u001b[0m",
      "\u001b[0;31mNameError\u001b[0m                                 Traceback (most recent call last)",
      "Cell \u001b[0;32mIn[102], line 25\u001b[0m\n\u001b[1;32m     22\u001b[0m \u001b[39m### training\u001b[39;00m\n\u001b[1;32m     23\u001b[0m \u001b[39mfor\u001b[39;00m i, (images, labels) \u001b[39min\u001b[39;00m \u001b[39menumerate\u001b[39m(train_loader):  \n\u001b[1;32m     24\u001b[0m     \u001b[39m# Forward pass\u001b[39;00m\n\u001b[0;32m---> 25\u001b[0m     loss, prediction \u001b[39m=\u001b[39m net\u001b[39m.\u001b[39mforward(images\u001b[39m.\u001b[39mnumpy(),\n\u001b[1;32m     26\u001b[0m                                 labels\u001b[39m.\u001b[39mnumpy(),\n\u001b[1;32m     27\u001b[0m                                 is_train\u001b[39m=\u001b[39m\u001b[39mTrue\u001b[39;00m)\n\u001b[1;32m     29\u001b[0m     train_loss \u001b[39m+\u001b[39m\u001b[39m=\u001b[39m loss\n\u001b[1;32m     30\u001b[0m     train_acc \u001b[39m+\u001b[39m\u001b[39m=\u001b[39m top_1_acc(labels\u001b[39m.\u001b[39mnumpy(), prediction)\n",
      "\u001b[0;31mNameError\u001b[0m: name 'net' is not defined"
     ]
    }
   ],
   "source": [
    "iterations_num = 0 # 记录训练的迭代次数\n",
    "\n",
    "train_loss_list = []\n",
    "train_acc_list = []\n",
    "val_loss_list = []\n",
    "val_acc_list = []\n",
    "train_step = len(train_loader)\n",
    "val_step = len(val_loader)\n",
    "split_num = 2\n",
    "start_time = time.time()\n",
    "for epoch in range(num_epochs):\n",
    "    train_loss = 0\n",
    "    val_loss = 0\n",
    "    train_acc = 0\n",
    "    val_acc = 0\n",
    "\n",
    "    batch_loss = 0\n",
    "    batch_acc = 0\n",
    "    epoch_loss = 0\n",
    "    epoch_acc = 0\n",
    "\n",
    "    ### training\n",
    "    for i, (images, labels) in enumerate(train_loader):  \n",
    "        # Forward pass\n",
    "        loss, prediction = net.forward(images.numpy(),\n",
    "                                    labels.numpy(),\n",
    "                                    is_train=True)\n",
    "        \n",
    "        train_loss += loss\n",
    "        train_acc += top_1_acc(labels.numpy(), prediction)\n",
    "        # for j in range(prediction.shape[0]):\n",
    "        #     if np.argmax(prediction[j]) == labels[j]:\n",
    "        #         train_acc += 1\n",
    "\n",
    "        net.backward(learning_rate)\n",
    "\n",
    "    train_loss_list.append(train_loss/train_step)\n",
    "    train_acc_list.append(train_acc/train_step)\n",
    "\n",
    "    print ('Epoch [{}/{}]:: Training Loss: {:.4f}, Training Accuracy: {:.4f} %' \n",
    "                    .format(epoch+1, num_epochs, np.mean(train_loss_list), np.mean(train_acc_list)))\n",
    "\n",
    "\n",
    "    ### validation\n",
    "    for i, (images, labels) in enumerate(val_loader):  \n",
    "        # Forward pass\n",
    "        loss, prediction = net.forward(images.numpy(),\n",
    "                                    labels.numpy(),\n",
    "                                    is_train=False)\n",
    "        \n",
    "        val_loss += loss\n",
    "        val_acc += top_1_acc(labels.numpy(), prediction)\n",
    "        # for j in range(prediction.shape[0]):\n",
    "        #     if np.argmax(prediction[j]) == labels[j]:\n",
    "        #         val_acc += 1\n",
    "\n",
    "    val_loss_list.append(val_loss/val_step)\n",
    "    val_acc_list.append(val_acc/val_step)\n",
    "\n",
    "    print ('Epoch [{}/{}]:: Validation Loss: {:.4f}, Validation Accuracy: {:.4f} %' \n",
    "                    .format(epoch+1, num_epochs, np.mean(val_loss_list), np.mean(val_acc_list)))\n",
    "\n",
    "       \n",
    "    df_model.loc['Handcrfted PyTorch LeNet5'] = ['Handcrfted PyTorch LeNet5', epoch+1, \n",
    "                                train_loss.item(), train_accuracy,\n",
    "                                val_loss.item(), val_accuracy]\n",
    "training_time = time.time() - start_time"
   ]
  },
  {
   "cell_type": "code",
   "execution_count": null,
   "metadata": {},
   "outputs": [],
   "source": [
    "train_loss, train_acc = 0, 0\n",
    "val_loss, val_acc = 0, 0\n",
    "test_loss, test_acc = 0, 0\n",
    "### training\n",
    "for i, (images, labels) in enumerate(train_loader):  \n",
    "        # Forward pass\n",
    "        loss, prediction = net.forward(images.numpy(),\n",
    "                                        labels.numpy(),\n",
    "                                        is_train=False)\n",
    "        \n",
    "        train_loss += loss\n",
    "        train_acc += top_1_acc(labels.numpy(), prediction)\n",
    "Train_acc = train_acc/len(train_loader)\n",
    "\n",
    "### validation\n",
    "for i, (images, labels) in enumerate(val_loader):\n",
    "        # Forward pass\n",
    "        loss, prediction = net.forward(images.numpy(),\n",
    "                                        labels.numpy(),\n",
    "                                        is_train=False)\n",
    "        \n",
    "        val_loss += loss\n",
    "        val_acc += top_1_acc(labels.numpy(), prediction)\n",
    "Val_acc = val_acc/len(val_loader)\n",
    "\n",
    "### test\n",
    "start_time = time.time()\n",
    "for i, (images, labels) in enumerate(test_loader):\n",
    "        # Forward pass\n",
    "        loss, prediction = net.forward(images.numpy(),\n",
    "                                        labels.numpy(),\n",
    "                                        is_train=False)\n",
    "        \n",
    "        test_loss += loss\n",
    "        test_acc += top_1_acc(labels.numpy(), prediction)\n",
    "Test_acc = test_acc/len(test_loader)\n",
    "inference_time = time.time() - start_time\n",
    "\n",
    "print('LeNet-5')\n",
    "print('Train accuracy: {:.3f}; Val accuracy: {:.3f}; Test accuracy: {:.3f}'.format(\n",
    "        Train_acc, Val_acc, Test_acc))\n"
   ]
  },
  {
   "attachments": {},
   "cell_type": "markdown",
   "metadata": {},
   "source": [
    "## Performance Comparision"
   ]
  },
  {
   "cell_type": "code",
   "execution_count": 21,
   "metadata": {},
   "outputs": [
    {
     "data": {
      "text/html": [
       "<div>\n",
       "<style scoped>\n",
       "    .dataframe tbody tr th:only-of-type {\n",
       "        vertical-align: middle;\n",
       "    }\n",
       "\n",
       "    .dataframe tbody tr th {\n",
       "        vertical-align: top;\n",
       "    }\n",
       "\n",
       "    .dataframe thead th {\n",
       "        text-align: right;\n",
       "    }\n",
       "</style>\n",
       "<table border=\"1\" class=\"dataframe\">\n",
       "  <thead>\n",
       "    <tr style=\"text-align: right;\">\n",
       "      <th></th>\n",
       "      <th>model</th>\n",
       "      <th>epoch</th>\n",
       "      <th>train_loss</th>\n",
       "      <th>train_acc</th>\n",
       "      <th>val_loss</th>\n",
       "      <th>val_acc</th>\n",
       "    </tr>\n",
       "  </thead>\n",
       "  <tbody>\n",
       "    <tr>\n",
       "      <th>1</th>\n",
       "      <td>TensorFlow LeNet5</td>\n",
       "      <td>1</td>\n",
       "      <td>4.205170</td>\n",
       "      <td>4.925385</td>\n",
       "      <td>3.739335</td>\n",
       "      <td>6.666667</td>\n",
       "    </tr>\n",
       "    <tr>\n",
       "      <th>2</th>\n",
       "      <td>TensorFlow LeNet5</td>\n",
       "      <td>2</td>\n",
       "      <td>3.457292</td>\n",
       "      <td>10.738256</td>\n",
       "      <td>3.475284</td>\n",
       "      <td>8.666667</td>\n",
       "    </tr>\n",
       "    <tr>\n",
       "      <th>3</th>\n",
       "      <td>TensorFlow LeNet5</td>\n",
       "      <td>3</td>\n",
       "      <td>3.026161</td>\n",
       "      <td>20.052113</td>\n",
       "      <td>3.746779</td>\n",
       "      <td>9.777778</td>\n",
       "    </tr>\n",
       "    <tr>\n",
       "      <th>4</th>\n",
       "      <td>TensorFlow LeNet5</td>\n",
       "      <td>4</td>\n",
       "      <td>2.430409</td>\n",
       "      <td>34.583496</td>\n",
       "      <td>4.755141</td>\n",
       "      <td>8.666667</td>\n",
       "    </tr>\n",
       "    <tr>\n",
       "      <th>5</th>\n",
       "      <td>TensorFlow LeNet5</td>\n",
       "      <td>5</td>\n",
       "      <td>1.739586</td>\n",
       "      <td>51.944725</td>\n",
       "      <td>5.453932</td>\n",
       "      <td>10.444445</td>\n",
       "    </tr>\n",
       "  </tbody>\n",
       "</table>\n",
       "</div>"
      ],
      "text/plain": [
       "               model  epoch  train_loss  train_acc  val_loss    val_acc\n",
       "1  TensorFlow LeNet5      1    4.205170   4.925385  3.739335   6.666667\n",
       "2  TensorFlow LeNet5      2    3.457292  10.738256  3.475284   8.666667\n",
       "3  TensorFlow LeNet5      3    3.026161  20.052113  3.746779   9.777778\n",
       "4  TensorFlow LeNet5      4    2.430409  34.583496  4.755141   8.666667\n",
       "5  TensorFlow LeNet5      5    1.739586  51.944725  5.453932  10.444445"
      ]
     },
     "execution_count": 21,
     "metadata": {},
     "output_type": "execute_result"
    }
   ],
   "source": [
    "df_model_tf_dynamic"
   ]
  },
  {
   "cell_type": "code",
   "execution_count": 16,
   "metadata": {},
   "outputs": [
    {
     "data": {
      "text/html": [
       "<div>\n",
       "<style scoped>\n",
       "    .dataframe tbody tr th:only-of-type {\n",
       "        vertical-align: middle;\n",
       "    }\n",
       "\n",
       "    .dataframe tbody tr th {\n",
       "        vertical-align: top;\n",
       "    }\n",
       "\n",
       "    .dataframe thead th {\n",
       "        text-align: right;\n",
       "    }\n",
       "</style>\n",
       "<table border=\"1\" class=\"dataframe\">\n",
       "  <thead>\n",
       "    <tr style=\"text-align: right;\">\n",
       "      <th></th>\n",
       "      <th>model</th>\n",
       "      <th>epoch</th>\n",
       "      <th>train_loss</th>\n",
       "      <th>train_acc</th>\n",
       "      <th>val_loss</th>\n",
       "      <th>val_acc</th>\n",
       "    </tr>\n",
       "  </thead>\n",
       "  <tbody>\n",
       "    <tr>\n",
       "      <th>1</th>\n",
       "      <td>PyTorch LeNet5</td>\n",
       "      <td>1</td>\n",
       "      <td>3.350824</td>\n",
       "      <td>10.161863</td>\n",
       "      <td>3.270228</td>\n",
       "      <td>13.111111</td>\n",
       "    </tr>\n",
       "    <tr>\n",
       "      <th>2</th>\n",
       "      <td>PyTorch LeNet5</td>\n",
       "      <td>2</td>\n",
       "      <td>3.065402</td>\n",
       "      <td>16.410580</td>\n",
       "      <td>3.152390</td>\n",
       "      <td>17.333333</td>\n",
       "    </tr>\n",
       "    <tr>\n",
       "      <th>3</th>\n",
       "      <td>PyTorch LeNet5</td>\n",
       "      <td>3</td>\n",
       "      <td>2.949365</td>\n",
       "      <td>19.597315</td>\n",
       "      <td>3.059574</td>\n",
       "      <td>17.333333</td>\n",
       "    </tr>\n",
       "    <tr>\n",
       "      <th>4</th>\n",
       "      <td>PyTorch LeNet5</td>\n",
       "      <td>4</td>\n",
       "      <td>2.855933</td>\n",
       "      <td>22.332412</td>\n",
       "      <td>3.035990</td>\n",
       "      <td>19.555556</td>\n",
       "    </tr>\n",
       "    <tr>\n",
       "      <th>5</th>\n",
       "      <td>PyTorch LeNet5</td>\n",
       "      <td>5</td>\n",
       "      <td>2.782906</td>\n",
       "      <td>24.701145</td>\n",
       "      <td>2.982459</td>\n",
       "      <td>20.222222</td>\n",
       "    </tr>\n",
       "  </tbody>\n",
       "</table>\n",
       "</div>"
      ],
      "text/plain": [
       "            model  epoch  train_loss  train_acc  val_loss    val_acc\n",
       "1  PyTorch LeNet5      1    3.350824  10.161863  3.270228  13.111111\n",
       "2  PyTorch LeNet5      2    3.065402  16.410580  3.152390  17.333333\n",
       "3  PyTorch LeNet5      3    2.949365  19.597315  3.059574  17.333333\n",
       "4  PyTorch LeNet5      4    2.855933  22.332412  3.035990  19.555556\n",
       "5  PyTorch LeNet5      5    2.782906  24.701145  2.982459  20.222222"
      ]
     },
     "execution_count": 16,
     "metadata": {},
     "output_type": "execute_result"
    }
   ],
   "source": [
    "df_model_pt"
   ]
  },
  {
   "cell_type": "code",
   "execution_count": 36,
   "metadata": {},
   "outputs": [
    {
     "data": {
      "text/plain": [
       "<matplotlib.legend.Legend at 0x7fc13eae3ac0>"
      ]
     },
     "execution_count": 36,
     "metadata": {},
     "output_type": "execute_result"
    },
    {
     "data": {
      "image/png": "[encoded data removed]",
      "text/plain": [
       "<Figure size 1500x500 with 2 Axes>"
      ]
     },
     "metadata": {},
     "output_type": "display_data"
    },
    {
     "data": {
      "image/png": "[encoded data removed]",
      "text/plain": [
       "<Figure size 1500x500 with 2 Axes>"
      ]
     },
     "metadata": {},
     "output_type": "display_data"
    }
   ],
   "source": [
    "# Plot the accuracy and loss in the same figure\n",
    "# Tensorflow LeNet-5 dynamic\n",
    "fig,ax = plt.subplots(1,2,figsize=(15, 5))\n",
    "fig.suptitle('Tensorflow LeNet-5 (dynamic)')\n",
    "ax[0].plot(range(1,num_epochs+1),df_model_tf_dynamic['train_acc'], label='train')\n",
    "ax[0].plot(range(1,num_epochs+1),df_model_tf_dynamic['val_acc'], label='val')\n",
    "ax[0].set_xlabel('Epoch')\n",
    "ax[0].set_ylabel('Accuracy')\n",
    "ax[0].legend()\n",
    "\n",
    "ax[1].plot(range(1,num_epochs+1),df_model_tf_dynamic['train_loss'], label='train')\n",
    "ax[1].plot(range(1,num_epochs+1),df_model_tf_dynamic['val_loss'], label='val')\n",
    "ax[1].set_xlabel('Epoch')\n",
    "ax[1].set_ylabel('Loss')\n",
    "ax[1].legend()\n",
    "\n",
    "# Pytorch LeNet-5\n",
    "fig,ax = plt.subplots(1,2,figsize=(15, 5))\n",
    "fig.suptitle('Pytorch LeNet-5')\n",
    "ax[0].plot(range(1,num_epochs+1),df_model_pt['train_acc'], label='train')\n",
    "ax[0].plot(range(1,num_epochs+1),df_model_pt['val_acc'], label='val')\n",
    "ax[0].set_xlabel('Epoch')\n",
    "ax[0].set_ylabel('Accuracy')\n",
    "ax[0].legend()\n",
    "\n",
    "ax[1].plot(range(1,num_epochs+1),df_model_pt['train_loss'], label='train')\n",
    "ax[1].plot(range(1,num_epochs+1),df_model_pt['val_loss'], label='val')\n",
    "ax[1].set_xlabel('Epoch')\n",
    "ax[1].set_ylabel('Loss')\n",
    "ax[1].legend()"
   ]
  },
  {
   "attachments": {},
   "cell_type": "markdown",
   "metadata": {},
   "source": [
    "# In the TensorFlow version, please make a \"static graph\" LeNet5 and compare it with a \"dynamic\" one in inference and training time."
   ]
  },
  {
   "attachments": {},
   "cell_type": "markdown",
   "metadata": {},
   "source": [
    "## Static graph"
   ]
  },
  {
   "cell_type": "code",
   "execution_count": 24,
   "metadata": {},
   "outputs": [
    {
     "name": "stdout",
     "output_type": "stream",
     "text": [
      "Model: \"tensorflow__le_net5_1\"\n",
      "_________________________________________________________________\n",
      " Layer (type)                Output Shape              Param #   \n",
      "=================================================================\n",
      " conv2d_2 (Conv2D)           (None, 60, 60, 6)         156       \n",
      "                                                                 \n",
      " max_pooling2d_2 (MaxPooling  (None, 30, 30, 6)        0         \n",
      " 2D)                                                             \n",
      "                                                                 \n",
      " conv2d_3 (Conv2D)           (None, 26, 26, 16)        2416      \n",
      "                                                                 \n",
      " max_pooling2d_3 (MaxPooling  (None, 13, 13, 16)       0         \n",
      " 2D)                                                             \n",
      "                                                                 \n",
      " flatten_1 (Flatten)         (None, 2704)              0         \n",
      "                                                                 \n",
      " dense_2 (Dense)             (None, 500)               1352500   \n",
      "                                                                 \n",
      " dense_3 (Dense)             (None, 50)                25050     \n",
      "                                                                 \n",
      "=================================================================\n",
      "Total params: 1,380,122\n",
      "Trainable params: 1,380,122\n",
      "Non-trainable params: 0\n",
      "_________________________________________________________________\n",
      "None\n"
     ]
    }
   ],
   "source": [
    "# Create an instance of the model\n",
    "input_shape = (32, 64, 64, 1)\n",
    "model = tensorflow_LeNet5()\n",
    "model.build(input_shape)\n",
    "model.call(tf.keras.layers.Input(shape=(64, 64, 1)))\n",
    "print(model.summary())"
   ]
  },
  {
   "cell_type": "code",
   "execution_count": 25,
   "metadata": {},
   "outputs": [],
   "source": [
    "loss_object = tf.keras.losses.SparseCategoricalCrossentropy(from_logits=True)\n",
    "\n",
    "optimizer = tf.keras.optimizers.Adam()\n",
    "\n",
    "train_loss = tf.keras.metrics.Mean(name='train_loss')\n",
    "train_accuracy = tf.keras.metrics.SparseCategoricalAccuracy(name='train_accuracy')\n",
    "\n",
    "val_loss = tf.keras.metrics.Mean(name='val_loss')\n",
    "val_accuracy = tf.keras.metrics.SparseCategoricalAccuracy(name='val_accuracy')\n",
    "\n",
    "test_loss = tf.keras.metrics.Mean(name='test_loss')\n",
    "test_accuracy = tf.keras.metrics.SparseCategoricalAccuracy(name='test_accuracy')"
   ]
  },
  {
   "cell_type": "code",
   "execution_count": 26,
   "metadata": {},
   "outputs": [],
   "source": [
    "@tf.function\n",
    "def train_step(images, labels):\n",
    "  with tf.GradientTape() as tape:\n",
    "    # training=True is only needed if there are layers with different\n",
    "    # behavior during training versus inference (e.g. Dropout).\n",
    "    # predictions = model(images, training=True)\n",
    "    predictions = model(images, training=True)\n",
    "    loss = loss_object(labels, predictions)\n",
    "  gradients = tape.gradient(loss, model.trainable_variables)\n",
    "  optimizer.apply_gradients(zip(gradients, model.trainable_variables))\n",
    "\n",
    "  train_loss(loss)\n",
    "  train_accuracy(labels, predictions)\n",
    "\n",
    "@tf.function\n",
    "def val_step(images, labels):\n",
    "  # training=False is only needed if there are layers with different\n",
    "  # behavior during training versus inference (e.g. Dropout).\n",
    "  # predictions = model(images, training=False)\n",
    "  predictions = model(images, training=False)\n",
    "  t_loss = loss_object(labels, predictions)\n",
    "\n",
    "  val_loss(t_loss)\n",
    "  val_accuracy(labels, predictions)\n",
    "\n",
    "@tf.function\n",
    "def test_step(images, labels):\n",
    "  # training=False is only needed if there are layers with different\n",
    "  # behavior during training versus inference (e.g. Dropout).\n",
    "  # predictions = model(images, training=False)\n",
    "  predictions = model(images, training=False)\n",
    "  t_loss = loss_object(labels, predictions)\n",
    "\n",
    "  test_loss(t_loss)\n",
    "  test_accuracy(labels, predictions)"
   ]
  },
  {
   "cell_type": "code",
   "execution_count": 27,
   "metadata": {},
   "outputs": [
    {
     "name": "stdout",
     "output_type": "stream",
     "text": [
      "Epoch [1/5]:: Training Loss:   4.0829, Training Accuracy:   3.3683 %\n",
      "Epoch [1/5]:: Validation Loss: 3.7649, Validation Accuracy: 4.4444 %\n",
      "Epoch [2/5]:: Training Loss:   3.6312, Training Accuracy:   7.8026 %\n",
      "Epoch [2/5]:: Validation Loss: 3.4324, Validation Accuracy: 10.2222 %\n",
      "Epoch [3/5]:: Training Loss:   3.2935, Training Accuracy:   14.1824 %\n",
      "Epoch [3/5]:: Validation Loss: 3.3364, Validation Accuracy: 12.0000 %\n",
      "Epoch [4/5]:: Training Loss:   2.8813, Training Accuracy:   23.6747 %\n",
      "Epoch [4/5]:: Validation Loss: 3.6298, Validation Accuracy: 11.1111 %\n",
      "Epoch [5/5]:: Training Loss:   2.3748, Training Accuracy:   36.0363 %\n",
      "Epoch [5/5]:: Validation Loss: 4.3654, Validation Accuracy: 9.7778 %\n",
      "Epoch [5]:: Test Loss: 4.1858, Test Accuracy: 8.4444 %\n"
     ]
    },
    {
     "data": {
      "text/html": [
       "<div>\n",
       "<style scoped>\n",
       "    .dataframe tbody tr th:only-of-type {\n",
       "        vertical-align: middle;\n",
       "    }\n",
       "\n",
       "    .dataframe tbody tr th {\n",
       "        vertical-align: top;\n",
       "    }\n",
       "\n",
       "    .dataframe thead th {\n",
       "        text-align: right;\n",
       "    }\n",
       "</style>\n",
       "<table border=\"1\" class=\"dataframe\">\n",
       "  <thead>\n",
       "    <tr style=\"text-align: right;\">\n",
       "      <th></th>\n",
       "      <th>model</th>\n",
       "      <th>accuracy</th>\n",
       "      <th>training_time</th>\n",
       "      <th>inference_time</th>\n",
       "      <th>num_parameters</th>\n",
       "      <th>flops</th>\n",
       "    </tr>\n",
       "  </thead>\n",
       "  <tbody>\n",
       "    <tr>\n",
       "      <th>TensorFlow LeNet5_dynamic</th>\n",
       "      <td>TensorFlow LeNet5</td>\n",
       "      <td>11.111112</td>\n",
       "      <td>5.684410</td>\n",
       "      <td>0.134759</td>\n",
       "      <td>0</td>\n",
       "      <td>0</td>\n",
       "    </tr>\n",
       "    <tr>\n",
       "      <th>PyTroch LeNet5</th>\n",
       "      <td>PyTroch LeNet5</td>\n",
       "      <td>23.111111</td>\n",
       "      <td>3.590316</td>\n",
       "      <td>0.289923</td>\n",
       "      <td>0</td>\n",
       "      <td>0</td>\n",
       "    </tr>\n",
       "    <tr>\n",
       "      <th>TensorFlow LeNet5_static</th>\n",
       "      <td>TensorFlow LeNet5</td>\n",
       "      <td>8.444444</td>\n",
       "      <td>2.629373</td>\n",
       "      <td>0.168986</td>\n",
       "      <td>0</td>\n",
       "      <td>0</td>\n",
       "    </tr>\n",
       "  </tbody>\n",
       "</table>\n",
       "</div>"
      ],
      "text/plain": [
       "                                       model   accuracy  training_time  \\\n",
       "TensorFlow LeNet5_dynamic  TensorFlow LeNet5  11.111112       5.684410   \n",
       "PyTroch LeNet5                PyTroch LeNet5  23.111111       3.590316   \n",
       "TensorFlow LeNet5_static   TensorFlow LeNet5   8.444444       2.629373   \n",
       "\n",
       "                           inference_time  num_parameters  flops  \n",
       "TensorFlow LeNet5_dynamic        0.134759               0      0  \n",
       "PyTroch LeNet5                   0.289923               0      0  \n",
       "TensorFlow LeNet5_static         0.168986               0      0  "
      ]
     },
     "execution_count": 27,
     "metadata": {},
     "output_type": "execute_result"
    }
   ],
   "source": [
    "EPOCHS = 5\n",
    "start_time = time.time()\n",
    "for epoch in range(EPOCHS):\n",
    "  # Reset the metrics at the start of the next epoch\n",
    "  train_loss.reset_states()\n",
    "  train_accuracy.reset_states()\n",
    "  val_loss.reset_states()\n",
    "  val_accuracy.reset_states()\n",
    "  test_loss.reset_states()\n",
    "  test_accuracy.reset_states()\n",
    "\n",
    "  for images, labels in train_ds:\n",
    "    train_step(images, labels)\n",
    "\n",
    "  for val_images, val_labels in val_ds:\n",
    "    val_step(val_images, val_labels)\n",
    "\n",
    "  print ('Epoch [{}/{}]:: Training Loss:   {:.4f}, Training Accuracy:   {:.4f} %' \n",
    "      .format(epoch+1, EPOCHS, train_loss.result(), train_accuracy.result()*100))\n",
    "  print ('Epoch [{}/{}]:: Validation Loss: {:.4f}, Validation Accuracy: {:.4f} %' \n",
    "      .format(epoch+1, EPOCHS, val_loss.result(), val_accuracy.result()*100))\n",
    "  \n",
    "  df_model_tf_static.loc[str(epoch+1)] = ['TensorFlow LeNet5', epoch+1, \n",
    "                                train_loss.result().numpy(), (train_accuracy.result()*100).numpy(), \n",
    "                                val_loss.result().numpy(), (val_accuracy.result()*100).numpy()]\n",
    "training_time = time.time() - start_time\n",
    "\n",
    "# Test the model\n",
    "start_time = time.time()\n",
    "for test_images, test_labels in test_ds:\n",
    "  test_step(test_images, test_labels)\n",
    "inference_time = time.time() - start_time\n",
    "print ('Epoch [{}]:: Test Loss: {:.4f}, Test Accuracy: {:.4f} %' \n",
    "      .format(EPOCHS, test_loss.result(), test_accuracy.result()*100))\n",
    "\n",
    "df_performance.loc['TensorFlow LeNet5_static'] = ['TensorFlow LeNet5',\n",
    "      (test_accuracy.result()*100).numpy(),\n",
    "      training_time/60, inference_time,\n",
    "      0,0]\n",
    "df_performance.head(5)"
   ]
  },
  {
   "cell_type": "code",
   "execution_count": 30,
   "metadata": {},
   "outputs": [
    {
     "data": {
      "text/html": [
       "<div>\n",
       "<style scoped>\n",
       "    .dataframe tbody tr th:only-of-type {\n",
       "        vertical-align: middle;\n",
       "    }\n",
       "\n",
       "    .dataframe tbody tr th {\n",
       "        vertical-align: top;\n",
       "    }\n",
       "\n",
       "    .dataframe thead th {\n",
       "        text-align: right;\n",
       "    }\n",
       "</style>\n",
       "<table border=\"1\" class=\"dataframe\">\n",
       "  <thead>\n",
       "    <tr style=\"text-align: right;\">\n",
       "      <th></th>\n",
       "      <th>model</th>\n",
       "      <th>epoch</th>\n",
       "      <th>train_loss</th>\n",
       "      <th>train_acc</th>\n",
       "      <th>val_loss</th>\n",
       "      <th>val_acc</th>\n",
       "    </tr>\n",
       "  </thead>\n",
       "  <tbody>\n",
       "    <tr>\n",
       "      <th>1</th>\n",
       "      <td>TensorFlow LeNet5</td>\n",
       "      <td>1</td>\n",
       "      <td>4.082891</td>\n",
       "      <td>3.368338</td>\n",
       "      <td>3.764907</td>\n",
       "      <td>4.444445</td>\n",
       "    </tr>\n",
       "    <tr>\n",
       "      <th>2</th>\n",
       "      <td>TensorFlow LeNet5</td>\n",
       "      <td>2</td>\n",
       "      <td>3.631223</td>\n",
       "      <td>7.802606</td>\n",
       "      <td>3.432425</td>\n",
       "      <td>10.222222</td>\n",
       "    </tr>\n",
       "    <tr>\n",
       "      <th>3</th>\n",
       "      <td>TensorFlow LeNet5</td>\n",
       "      <td>3</td>\n",
       "      <td>3.293476</td>\n",
       "      <td>14.182392</td>\n",
       "      <td>3.336391</td>\n",
       "      <td>12.000000</td>\n",
       "    </tr>\n",
       "    <tr>\n",
       "      <th>4</th>\n",
       "      <td>TensorFlow LeNet5</td>\n",
       "      <td>4</td>\n",
       "      <td>2.881347</td>\n",
       "      <td>23.674694</td>\n",
       "      <td>3.629819</td>\n",
       "      <td>11.111112</td>\n",
       "    </tr>\n",
       "    <tr>\n",
       "      <th>5</th>\n",
       "      <td>TensorFlow LeNet5</td>\n",
       "      <td>5</td>\n",
       "      <td>2.374823</td>\n",
       "      <td>36.036320</td>\n",
       "      <td>4.365400</td>\n",
       "      <td>9.777778</td>\n",
       "    </tr>\n",
       "  </tbody>\n",
       "</table>\n",
       "</div>"
      ],
      "text/plain": [
       "               model  epoch  train_loss  train_acc  val_loss    val_acc\n",
       "1  TensorFlow LeNet5      1    4.082891   3.368338  3.764907   4.444445\n",
       "2  TensorFlow LeNet5      2    3.631223   7.802606  3.432425  10.222222\n",
       "3  TensorFlow LeNet5      3    3.293476  14.182392  3.336391  12.000000\n",
       "4  TensorFlow LeNet5      4    2.881347  23.674694  3.629819  11.111112\n",
       "5  TensorFlow LeNet5      5    2.374823  36.036320  4.365400   9.777778"
      ]
     },
     "execution_count": 30,
     "metadata": {},
     "output_type": "execute_result"
    }
   ],
   "source": [
    "df_model_tf_static"
   ]
  },
  {
   "cell_type": "code",
   "execution_count": 31,
   "metadata": {},
   "outputs": [
    {
     "data": {
      "text/html": [
       "<div>\n",
       "<style scoped>\n",
       "    .dataframe tbody tr th:only-of-type {\n",
       "        vertical-align: middle;\n",
       "    }\n",
       "\n",
       "    .dataframe tbody tr th {\n",
       "        vertical-align: top;\n",
       "    }\n",
       "\n",
       "    .dataframe thead th {\n",
       "        text-align: right;\n",
       "    }\n",
       "</style>\n",
       "<table border=\"1\" class=\"dataframe\">\n",
       "  <thead>\n",
       "    <tr style=\"text-align: right;\">\n",
       "      <th></th>\n",
       "      <th>model</th>\n",
       "      <th>accuracy</th>\n",
       "      <th>training_time</th>\n",
       "      <th>inference_time</th>\n",
       "      <th>num_parameters</th>\n",
       "      <th>flops</th>\n",
       "    </tr>\n",
       "  </thead>\n",
       "  <tbody>\n",
       "    <tr>\n",
       "      <th>TensorFlow LeNet5_dynamic</th>\n",
       "      <td>TensorFlow LeNet5</td>\n",
       "      <td>11.111112</td>\n",
       "      <td>5.684410</td>\n",
       "      <td>0.134759</td>\n",
       "      <td>0</td>\n",
       "      <td>0</td>\n",
       "    </tr>\n",
       "    <tr>\n",
       "      <th>PyTroch LeNet5</th>\n",
       "      <td>PyTroch LeNet5</td>\n",
       "      <td>23.111111</td>\n",
       "      <td>3.590316</td>\n",
       "      <td>0.289923</td>\n",
       "      <td>0</td>\n",
       "      <td>0</td>\n",
       "    </tr>\n",
       "    <tr>\n",
       "      <th>TensorFlow LeNet5_static</th>\n",
       "      <td>TensorFlow LeNet5</td>\n",
       "      <td>8.444444</td>\n",
       "      <td>2.629373</td>\n",
       "      <td>0.168986</td>\n",
       "      <td>0</td>\n",
       "      <td>0</td>\n",
       "    </tr>\n",
       "  </tbody>\n",
       "</table>\n",
       "</div>"
      ],
      "text/plain": [
       "                                       model   accuracy  training_time  \\\n",
       "TensorFlow LeNet5_dynamic  TensorFlow LeNet5  11.111112       5.684410   \n",
       "PyTroch LeNet5                PyTroch LeNet5  23.111111       3.590316   \n",
       "TensorFlow LeNet5_static   TensorFlow LeNet5   8.444444       2.629373   \n",
       "\n",
       "                           inference_time  num_parameters  flops  \n",
       "TensorFlow LeNet5_dynamic        0.134759               0      0  \n",
       "PyTroch LeNet5                   0.289923               0      0  \n",
       "TensorFlow LeNet5_static         0.168986               0      0  "
      ]
     },
     "execution_count": 31,
     "metadata": {},
     "output_type": "execute_result"
    }
   ],
   "source": [
    "df_performance"
   ]
  },
  {
   "cell_type": "code",
   "execution_count": 32,
   "metadata": {},
   "outputs": [
    {
     "data": {
      "text/plain": [
       "<matplotlib.legend.Legend at 0x7fc142ffbbb0>"
      ]
     },
     "execution_count": 32,
     "metadata": {},
     "output_type": "execute_result"
    },
    {
     "data": {
      "image/png": "[encoded data removed]",
      "text/plain": [
       "<Figure size 1500x500 with 2 Axes>"
      ]
     },
     "metadata": {},
     "output_type": "display_data"
    }
   ],
   "source": [
    "# Tensorflow LeNet-5 static\n",
    "fig,ax = plt.subplots(1,2,figsize=(15, 5))\n",
    "fig.suptitle('Tensorflow LeNet-5 (static)')\n",
    "ax[0].plot(range(1,num_epochs+1),df_model_tf_dynamic['train_acc'], label='train')\n",
    "ax[0].plot(range(1,num_epochs+1),df_model_tf_dynamic['val_acc'], label='val')\n",
    "ax[0].set_xlabel('Epoch')\n",
    "ax[0].set_ylabel('Accuracy')\n",
    "ax[0].legend()\n",
    "\n",
    "ax[1].plot(range(1,num_epochs+1),df_model_tf_dynamic['train_loss'], label='train')\n",
    "ax[1].plot(range(1,num_epochs+1),df_model_tf_dynamic['val_loss'], label='val')\n",
    "ax[1].set_xlabel('Epoch')\n",
    "ax[1].set_ylabel('Loss')\n",
    "ax[1].legend()"
   ]
  }
 ],
 "metadata": {
  "kernelspec": {
   "display_name": "DL",
   "language": "python",
   "name": "python3"
  },
  "language_info": {
   "codemirror_mode": {
    "name": "ipython",
    "version": 3
   },
   "file_extension": ".py",
   "mimetype": "text/x-python",
   "name": "python",
   "nbconvert_exporter": "python",
   "pygments_lexer": "ipython3",
   "version": "3.8.0"
  },
  "orig_nbformat": 4
 },
 "nbformat": 4,
 "nbformat_minor": 2
}
